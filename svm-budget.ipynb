{
 "cells": [
  {
   "cell_type": "markdown",
   "metadata": {},
   "source": [
    "# Budget-based SVR\n",
    "\n",
    "The basic SVR algorithm solves the following optimization problem:\n",
    "\n",
    "$$\\min \\frac{1}{2} ||w||^2 + C \\sum(\\xi_i + \\hat\\xi_i)$$\n",
    "\n",
    "under the constraints\n",
    "\n",
    "$$y_i - \\epsilon - \\xi_i \\leq w \\cdot x_i + b\n",
    "          \\leq y_i + \\epsilon + \\hat\\xi_i \\\\\n",
    "  \\xi_i, \\hat\\xi_i \\geq 0$$\n",
    "\n",
    "The Wolfe dual is\n",
    "\n",
    "$$\\min_{\\alpha, \\hat\\alpha} \\frac{1}{2} \\sum_{i, j}\n",
    "  (\\alpha_i - \\hat\\alpha_i) (\\alpha_j - \\hat\\alpha_j) k(x_i, x_j)\n",
    "  - \\sum_i (\\alpha_i - \\hat\\alpha_i) y_i\n",
    "  + \\sum_i (\\alpha_i + \\hat\\alpha_i) \\epsilon$$\n",
    "\n",
    "under the constraints\n",
    "\n",
    "$$\\sum_i (\\alpha_i - \\hat\\alpha_i) = 0 \\\\\n",
    "  0 \\leq \\alpha_i, \\hat\\alpha_i \\leq C$$\n",
    "\n",
    "The budget-based version, instead, focuses on\n",
    "\n",
    "$$\\min_{\\alpha, \\hat\\alpha, \\gamma} \\frac{1}{2} \\sum_{i, j}\n",
    "  (\\alpha_i - \\hat\\alpha_i) (\\alpha_j - \\hat\\alpha_j) k(x_i, x_j)\n",
    "  - \\sum_i (\\alpha_i - \\hat\\alpha_i) y_i\n",
    "  + \\sum_i (\\alpha_i + \\hat\\alpha_i) \\epsilon\n",
    "  + \\gamma B$$\n",
    "\n",
    "under the constraints\n",
    "\n",
    "$$\\sum_i (\\alpha_i - \\hat\\alpha_i) = 0 \\\\\n",
    "  \\alpha_i - \\gamma \\leq C  \\\\\n",
    "  \\hat\\alpha_i - \\gamma \\leq C \\\\\n",
    "  \\alpha_i, \\hat\\alpha_i, \\gamma \\geq 0$$\n",
    "\n",
    "The KKT conditions are\n",
    "\n",
    "$$\\alpha_i(w \\cdot x_i + b - y_i + \\epsilon + \\xi_i) = 0 \\\\\n",
    "  \\hat\\alpha_i(y_i + \\epsilon + \\hat\\xi_i - w \\cdot x_i - b) = 0 \\\\\n",
    "  \\beta_i \\xi_i = 0, \\hat\\beta_i \\hat\\xi_i = 0 \\\\\n",
    "  \\gamma B \\sum(\\xi_i + \\hat\\xi_i) = 0$$\n",
    "\n",
    "So that if the optimal value of $\\gamma$ is zero, $b$ is\n",
    "found as usual, otherwise $b = y_i - \\epsilon - w \\cdot x_i$ with $i$ such\n",
    "that $\\alpha_i < C + \\gamma$, still considering optimal values of\n",
    "variables. Note that in both cases $b$ can be found considering $i$ such\n",
    "that $\\alpha_i < C + \\gamma$. Similar considerations hold for the hatted\n",
    "set of variables."
   ]
  },
  {
   "cell_type": "code",
   "execution_count": 22,
   "metadata": {},
   "outputs": [],
   "source": [
    "import ipywidgets as widgets\n",
    "import matplotlib.pyplot as plt\n",
    "import numpy as np\n",
    "import pandas as pd\n",
    "\n",
    "from optimization import GurobiSolver\n",
    "from kernel import LinearKernel, GaussianKernel\n",
    "\n",
    "def generate_data():\n",
    "    n = 50\n",
    "    a = 1.5\n",
    "    b = 0.3\n",
    "\n",
    "    X = np.random.random(n)\n",
    "    y = a * X + b + np.random.random(n) / 2\n",
    "\n",
    "    return X, y\n",
    "\n",
    "def feature_dot(x_new, sv, kernel):\n",
    "    return sum([a * kernel.compute(x, x_new) for (a, x) in sv])\n",
    "\n",
    "X, y = generate_data()\n",
    "s = GurobiSolver()\n"
   ]
  },
  {
   "cell_type": "code",
   "execution_count": 23,
   "metadata": {},
   "outputs": [
    {
     "data": {
      "application/vnd.jupyter.widget-view+json": {
       "model_id": "62fbc0288c364eab8ef6f74222424d82",
       "version_major": 2,
       "version_minor": 0
      },
      "text/plain": [
       "interactive(children=(FloatSlider(value=1.0, description='C', max=1000.0, min=0.001, step=0.001), FloatSlider(…"
      ]
     },
     "metadata": {},
     "output_type": "display_data"
    }
   ],
   "source": [
    "\n",
    "@widgets.interact(C=widgets.FloatSlider(min=1E-3, max=1E3, step=.001, value=1),\n",
    "                  sigma=widgets.FloatSlider(min=1E-4, max=3, step=0.1, \n",
    "                                           value=0.1),\n",
    "                  epsilon=widgets.FloatSlider(min=0.01, max=1,\n",
    "                                              step=.01, value=.1),\n",
    "                  B=widgets.FloatSlider(min=0.01, max=10, step=.5, value=1)\n",
    "                  )\n",
    "def f(C, sigma, epsilon, B):\n",
    "    k = GaussianKernel(sigma)\n",
    "    alpha, alpha_hat = s.solve(X, y, C=1, kernel=k, epsilon=epsilon)\n",
    "\n",
    "    sv = [(a - a_h, x) for a, a_h, x in zip(alpha, alpha_hat, X)\n",
    "                                     if a - a_h != 0]\n",
    "    \n",
    "    global aaa\n",
    "    aaa = sv\n",
    "\n",
    "    b_values = [y_ - feature_dot(x, sv, k) - epsilon\n",
    "                for a, x, y_ in zip(alpha, X, y) if 0 < a < C]\n",
    "    b_values += [y_ - feature_dot(x, sv, k) + epsilon\n",
    "                for a_h, x, y_ in zip(alpha_hat, X, y) if 0 < a_h < C]\n",
    "\n",
    "    b = np.mean(b_values)\n",
    "\n",
    "    regression = lambda x: feature_dot(x, sv, k) + b\n",
    "\n",
    "    x_values = np.linspace(min(X), max(X), 500)\n",
    "\n",
    "    fig, ax = plt.subplots()\n",
    "    ax.scatter(X, y)\n",
    "    ax.plot(x_values, [regression(x) for x in x_values])\n",
    "    ax.plot(x_values, [regression(x) + epsilon for x in x_values],\n",
    "            'k--', linewidth=.5)\n",
    "    ax.plot(x_values, [regression(x) - epsilon for x in x_values],\n",
    "            'k--', linewidth=.5)\n",
    "\n",
    "    alpha, alpha_hat, gamma = s.solve(X, y, C, k, epsilon, budget=B)\n",
    "\n",
    "    budget_sv = [(a - a_h, x) for a, a_h, x\n",
    "             in zip(alpha, alpha_hat, X) if a - a_h != 0]\n",
    "\n",
    "\n",
    "    budget_b_values = [y_ - feature_dot(x, sv, k) - epsilon\n",
    "                for a, x, y_ in zip(alpha, X, y) if 0 < a < C + gamma]\n",
    "    budget_b_values += [y_ - feature_dot(x, sv, k) + epsilon\n",
    "                for a_h, x, y_ in zip(alpha_hat, X, y) if 0 < a_h < C + gamma]\n",
    "\n",
    "    budget_b = np.mean(b_values)\n",
    "\n",
    "    budget_regression = lambda x: feature_dot(x, budget_sv, k) + budget_b\n",
    "\n",
    "    ax.plot(x_values, [budget_regression(x) + epsilon for x in x_values],\n",
    "            'r:', linewidth=.5)\n",
    "    ax.plot(x_values, [budget_regression(x) for x in x_values], 'r')\n",
    "    ax.plot(x_values, [budget_regression(x) - epsilon for x in x_values],\n",
    "            'r:', linewidth=.5)\n",
    "    #return alpha, alpha_hat"
   ]
  },
  {
   "cell_type": "code",
   "execution_count": 20,
   "metadata": {},
   "outputs": [
    {
     "data": {
      "text/plain": [
       "[(-0.14607637805692372, 0.08193296324325083),\n",
       " (1.0, 0.5918910492252069),\n",
       " (0.8367673983653987, 0.9900179076520604),\n",
       " (-1.0, 0.7576616026504494),\n",
       " (0.5541807459418351, 0.9108530533878771),\n",
       " (-1.0, 0.6897674522377063),\n",
       " (1.0, 0.8126005189000531),\n",
       " (1.0, 0.8017943113965676),\n",
       " (1.0, 0.5902669031437341),\n",
       " (-1.0, 0.7456327043424169),\n",
       " (0.3651893925107828, 0.19788269389906565),\n",
       " (-0.6229912710641062, 0.8580934472955833),\n",
       " (-0.417628936474119, 0.5771851809735215),\n",
       " (-0.1544629104012109, 0.6873149476315689),\n",
       " (1.0, 0.9403299431495786),\n",
       " (-1.0, 0.5836830412550431),\n",
       " (1.0, 0.7020549958199833),\n",
       " (-1.0, 0.8783658986695058),\n",
       " (-1.0, 0.025882049443798127),\n",
       " (-1.0, 0.13910490213658167),\n",
       " (0.18416131633797603, 0.3404673263247383),\n",
       " (-1.0, 0.31980677049811557),\n",
       " (1.0, 0.021209808391162155),\n",
       " (-1.0, 0.9729121658576204),\n",
       " (-1.0, 0.028317754364300174),\n",
       " (0.8835249927611366, 0.45081540674292875),\n",
       " (1.0, 0.7219266343368003),\n",
       " (0.5173356541942926, 0.281950385407295),\n",
       " (1.0, 0.07077790049623378),\n",
       " (-1.0, 0.5008219525076276)]"
      ]
     },
     "execution_count": 20,
     "metadata": {},
     "output_type": "execute_result"
    }
   ],
   "source": [
    "from IPython.display import HTML\n",
    "\n",
    "aaa"
   ]
  },
  {
   "cell_type": "code",
   "execution_count": null,
   "metadata": {},
   "outputs": [],
   "source": []
  }
 ],
 "metadata": {
  "kernelspec": {
   "display_name": "Python 3 (ipykernel)",
   "language": "python",
   "name": "python3"
  },
  "language_info": {
   "codemirror_mode": {
    "name": "ipython",
    "version": 3
   },
   "file_extension": ".py",
   "mimetype": "text/x-python",
   "name": "python",
   "nbconvert_exporter": "python",
   "pygments_lexer": "ipython3",
   "version": "3.10.4"
  },
  "vscode": {
   "interpreter": {
    "hash": "fb81e07f4ab13bb5586d712aa9061ede1871df36198bf4da25461a9a3be410f2"
   }
  }
 },
 "nbformat": 4,
 "nbformat_minor": 2
}
