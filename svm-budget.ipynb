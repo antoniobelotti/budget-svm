{
 "cells": [
  {
   "cell_type": "code",
   "execution_count": 1,
   "metadata": {},
   "outputs": [],
   "source": [
    "import ipywidgets as widgets"
   ]
  },
  {
   "cell_type": "code",
   "execution_count": 2,
   "metadata": {},
   "outputs": [],
   "source": [
    "import numpy as np\n",
    "\n",
    "def generate_data():\n",
    "    n = 50\n",
    "    a = 1.5\n",
    "    b = 0.3\n",
    "\n",
    "    X = np.random.random(n)\n",
    "    y = a * X + b + np.random.random(n) / 2\n",
    "\n",
    "    return X, y"
   ]
  },
  {
   "cell_type": "code",
   "execution_count": 3,
   "metadata": {},
   "outputs": [],
   "source": [
    "X, y = generate_data()"
   ]
  },
  {
   "cell_type": "code",
   "execution_count": 4,
   "metadata": {},
   "outputs": [],
   "source": [
    "from optimization import GurobiSolver\n",
    "from kernel import LinearKernel, GaussianKernel\n",
    "import matplotlib.pyplot as plt\n",
    "s = GurobiSolver()\n"
   ]
  },
  {
   "cell_type": "code",
   "execution_count": 82,
   "metadata": {},
   "outputs": [
    {
     "data": {
      "application/vnd.jupyter.widget-view+json": {
       "model_id": "3263f2296eef4d758b2a32e626e37526",
       "version_major": 2,
       "version_minor": 0
      },
      "text/plain": [
       "interactive(children=(FloatSlider(value=1.0, description='C', max=1000.0, min=0.001, step=0.001), FloatSlider(…"
      ]
     },
     "metadata": {},
     "output_type": "display_data"
    }
   ],
   "source": [
    "\n",
    "def feature_dot(x_new, sv, kernel):\n",
    "    return sum([a * kernel.compute(x, x_new) for (a, x) in sv])\n",
    "\n",
    "\n",
    "@widgets.interact(C=widgets.FloatSlider(min=1E-3, max=1E3, step=.001, value=1),\n",
    "                  sigma=widgets.FloatSlider(min=1E-3, max=10, step=0.01, \n",
    "                                           value=1),\n",
    "                  epsilon=widgets.FloatSlider(min=0.01, max=1,\n",
    "                                              step=.01, value=.1),\n",
    "                  B=widgets.FloatSlider(min=0.01, max=10, step=.5, value=1)\n",
    "                  )\n",
    "def f(C, sigma, epsilon, B):\n",
    "    k = GaussianKernel(sigma)\n",
    "    alpha, alpha_hat = s.solve(X, y, C=1, kernel=k, epsilon=epsilon)\n",
    "    print(k)\n",
    "    sv = [(a - a_h, x) for a, a_h, x in zip(alpha, alpha_hat, X)\n",
    "                                     if a - a_h != 0]\n",
    "\n",
    "    b_values = [y_ - feature_dot(x, sv, k) - epsilon\n",
    "                for a, x, y_ in zip(alpha, X, y) if 0 < a < C]\n",
    "    b_values += [y_ - feature_dot(x, sv, k) + epsilon\n",
    "                for a_h, x, y_ in zip(alpha_hat, X, y) if 0 < a_h < C]\n",
    "\n",
    "    b = np.mean(b_values)\n",
    "\n",
    "    regression = lambda x: feature_dot(x, sv, k) + b\n",
    "\n",
    "    x_values = np.linspace(min(X), max(X), 500)\n",
    "\n",
    "    fig, ax = plt.subplots()\n",
    "    ax.scatter(X, y)\n",
    "    ax.plot(x_values, [regression(x) for x in x_values])\n",
    "    ax.plot(x_values, [regression(x) + epsilon for x in x_values],\n",
    "            'k--', linewidth=.5)\n",
    "    ax.plot(x_values, [regression(x) - epsilon for x in x_values],\n",
    "            'k--', linewidth=.5)\n",
    "\n",
    "    alpha, alpha_hat, gamma = s.solve(X, y, C, k, epsilon, budget=B)\n",
    "\n",
    "    budget_sv = [(a - a_h, x) for a, a_h, x\n",
    "             in zip(alpha, alpha_hat, X) if a - a_h != 0]\n",
    "\n",
    "\n",
    "    budget_b_values = [y_ - feature_dot(x, sv, k) - epsilon\n",
    "                for a, x, y_ in zip(alpha, X, y) if 0 < a < C + gamma]\n",
    "    budget_b_values += [y_ - feature_dot(x, sv, k) + epsilon\n",
    "                for a_h, x, y_ in zip(alpha_hat, X, y) if 0 < a_h < C + gamma]\n",
    "\n",
    "    budget_b = np.mean(b_values)\n",
    "\n",
    "    budget_regression = lambda x: feature_dot(x, budget_sv, k) + budget_b\n",
    "\n",
    "    ax.plot(x_values, [budget_regression(x) + epsilon for x in x_values],\n",
    "            'r:', linewidth=.5)\n",
    "    ax.plot(x_values, [budget_regression(x) for x in x_values], 'r')\n",
    "    ax.plot(x_values, [budget_regression(x) - epsilon for x in x_values],\n",
    "            'r:', linewidth=.5)\n",
    "    #return alpha, alpha_hat"
   ]
  },
  {
   "cell_type": "code",
   "execution_count": null,
   "metadata": {},
   "outputs": [],
   "source": []
  }
 ],
 "metadata": {
  "kernelspec": {
   "display_name": "Python 3 (ipykernel)",
   "language": "python",
   "name": "python3"
  },
  "language_info": {
   "codemirror_mode": {
    "name": "ipython",
    "version": 3
   },
   "file_extension": ".py",
   "mimetype": "text/x-python",
   "name": "python",
   "nbconvert_exporter": "python",
   "pygments_lexer": "ipython3",
   "version": "3.7.3"
  },
  "vscode": {
   "interpreter": {
    "hash": "fb81e07f4ab13bb5586d712aa9061ede1871df36198bf4da25461a9a3be410f2"
   }
  }
 },
 "nbformat": 4,
 "nbformat_minor": 2
}
