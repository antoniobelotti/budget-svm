{
 "cells": [
  {
   "cell_type": "markdown",
   "metadata": {},
   "source": [
    "# Budget-based SVR\n",
    "\n",
    "The basic SVR algorithm solves the following optimization problem:\n",
    "\n",
    "$$\\min \\frac{1}{2} ||w||^2 + C \\sum(\\xi_i + \\hat\\xi_i)$$\n",
    "\n",
    "under the constraints\n",
    "\n",
    "$$y_i - \\epsilon - \\xi_i \\leq w \\cdot x_i + b\n",
    "          \\leq y_i + \\epsilon + \\hat\\xi_i \\\\\n",
    "  \\xi_i, \\hat\\xi_i \\geq 0$$\n",
    "\n",
    "The Wolfe dual is\n",
    "\n",
    "$$\\min_{\\alpha, \\hat\\alpha} \\frac{1}{2} \\sum_{i, j}\n",
    "  (\\alpha_i - \\hat\\alpha_i) (\\alpha_j - \\hat\\alpha_j) k(x_i, x_j)\n",
    "  - \\sum_i (\\alpha_i - \\hat\\alpha_i) y_i\n",
    "  + \\sum_i (\\alpha_i + \\hat\\alpha_i) \\epsilon$$\n",
    "\n",
    "under the constraints\n",
    "\n",
    "$$\\sum_i (\\alpha_i - \\hat\\alpha_i) = 0 \\\\\n",
    "  0 \\leq \\alpha_i, \\hat\\alpha_i \\leq C$$\n",
    "\n",
    "The budget-based version, instead, focuses on\n",
    "\n",
    "$$\\min_{\\alpha, \\hat\\alpha, \\gamma} \\frac{1}{2} \\sum_{i, j}\n",
    "  (\\alpha_i - \\hat\\alpha_i) (\\alpha_j - \\hat\\alpha_j) k(x_i, x_j)\n",
    "  - \\sum_i (\\alpha_i - \\hat\\alpha_i) y_i\n",
    "  + \\sum_i (\\alpha_i + \\hat\\alpha_i) \\epsilon\n",
    "  + \\gamma B$$\n",
    "\n",
    "under the constraints\n",
    "\n",
    "$$\\sum_i (\\alpha_i - \\hat\\alpha_i) = 0 \\\\\n",
    "  \\alpha_i - \\gamma \\leq C  \\\\\n",
    "  \\hat\\alpha_i - \\gamma \\leq C \\\\\n",
    "  \\alpha_i, \\hat\\alpha_i, \\gamma \\geq 0$$\n",
    "\n",
    "The KKT conditions are\n",
    "\n",
    "$$\\alpha_i(w \\cdot x_i + b - y_i + \\epsilon + \\xi_i) = 0 \\\\\n",
    "  \\hat\\alpha_i(y_i + \\epsilon + \\hat\\xi_i - w \\cdot x_i - b) = 0 \\\\\n",
    "  \\beta_i \\xi_i = 0, \\hat\\beta_i \\hat\\xi_i = 0 \\\\\n",
    "  \\gamma B \\sum(\\xi_i + \\hat\\xi_i) = 0$$\n",
    "\n",
    "So that if the optimal value of $\\gamma$ is zero, $b$ is\n",
    "found as usual, otherwise $b = y_i - \\epsilon - w \\cdot x_i$ with $i$ such\n",
    "that $\\alpha_i < C + \\gamma$, still considering optimal values of\n",
    "variables. Note that in both cases $b$ can be found considering $i$ such\n",
    "that $\\alpha_i < C + \\gamma$. Similar considerations hold for the hatted\n",
    "set of variables."
   ]
  },
  {
   "cell_type": "code",
   "execution_count": 1,
   "metadata": {},
   "outputs": [],
   "source": [
    "import ipywidgets as widgets\n",
    "import matplotlib.pyplot as plt\n",
    "import numpy as np\n",
    "import pandas as pd\n",
    "\n",
    "from optimization import GurobiSolver\n",
    "from kernel import LinearKernel, GaussianKernel\n",
    "\n",
    "def generate_data():\n",
    "    n = 50\n",
    "    a = 1.5\n",
    "    b = 0.3\n",
    "\n",
    "    X = np.random.random(n)\n",
    "    y = a * X + b + np.random.random(n) / 2\n",
    "\n",
    "    return X, y\n",
    "\n",
    "def feature_dot(x_new, sv, kernel):\n",
    "    return sum([a * kernel.compute(x, x_new) for (a, x) in sv])\n",
    "\n",
    "X, y = generate_data()\n",
    "s = GurobiSolver()\n"
   ]
  },
  {
   "cell_type": "code",
   "execution_count": 2,
   "metadata": {
    "scrolled": false
   },
   "outputs": [
    {
     "data": {
      "application/vnd.jupyter.widget-view+json": {
       "model_id": "e1ac8d4b9efd466a949611bf5a259a91",
       "version_major": 2,
       "version_minor": 0
      },
      "text/plain": [
       "interactive(children=(FloatSlider(value=1.0, description='C', max=1000.0, min=0.001, step=0.001), FloatSlider(…"
      ]
     },
     "metadata": {},
     "output_type": "display_data"
    },
    {
     "data": {
      "image/png": "[encoded data removed]",
      "text/plain": [
       "<Figure size 432x288 with 1 Axes>"
      ]
     },
     "metadata": {
      "needs_background": "light"
     },
     "output_type": "display_data"
    }
   ],
   "source": [
    "\n",
    "@widgets.interact(C=widgets.FloatSlider(min=1E-3, max=1E3, step=.001, value=1),\n",
    "                  sigma=widgets.FloatSlider(min=1E-4, max=3, step=0.1, \n",
    "                                           value=0.1),\n",
    "                  epsilon=widgets.FloatSlider(min=0.01, max=1,\n",
    "                                              step=.01, value=.1),\n",
    "                  B=widgets.FloatSlider(min=0.01, max=10, step=.5, value=1)\n",
    "                  )\n",
    "def f(C, sigma, epsilon, B):\n",
    "    k = GaussianKernel(sigma)\n",
    "    alpha, alpha_hat = s.solve(X, y, C=1, kernel=k, epsilon=epsilon)\n",
    "\n",
    "    sv = [(a - a_h, x) for a, a_h, x in zip(alpha, alpha_hat, X)\n",
    "                                     if a - a_h != 0]\n",
    "    \n",
    "    global aaa\n",
    "    aaa = sv\n",
    "\n",
    "    b_values = [y_ - feature_dot(x, sv, k) - epsilon\n",
    "                for a, x, y_ in zip(alpha, X, y) if 0 < a < C]\n",
    "    b_values += [y_ - feature_dot(x, sv, k) + epsilon\n",
    "                for a_h, x, y_ in zip(alpha_hat, X, y) if 0 < a_h < C]\n",
    "\n",
    "    b = np.mean(b_values)\n",
    "\n",
    "    regression = lambda x: feature_dot(x, sv, k) + b\n",
    "\n",
    "    x_values = np.linspace(min(X), max(X), 500)\n",
    "\n",
    "    fig, ax = plt.subplots()\n",
    "    ax.scatter(X, y)\n",
    "    ax.plot(x_values, [regression(x) for x in x_values])\n",
    "    ax.plot(x_values, [regression(x) + epsilon for x in x_values],\n",
    "            'k--', linewidth=.5)\n",
    "    ax.plot(x_values, [regression(x) - epsilon for x in x_values],\n",
    "            'k--', linewidth=.5)\n",
    "\n",
    "    alpha, alpha_hat, gamma = s.solve(X, y, C, k, epsilon, budget=B)\n",
    "\n",
    "    budget_sv = [(a - a_h, x) for a, a_h, x\n",
    "             in zip(alpha, alpha_hat, X) if a - a_h != 0]\n",
    "\n",
    "\n",
    "    budget_b_values = [y_ - feature_dot(x, sv, k) - epsilon\n",
    "                for a, x, y_ in zip(alpha, X, y) if 0 < a < C + gamma]\n",
    "    budget_b_values += [y_ - feature_dot(x, sv, k) + epsilon\n",
    "                for a_h, x, y_ in zip(alpha_hat, X, y) if 0 < a_h < C + gamma]\n",
    "\n",
    "    budget_b = np.mean(b_values)\n",
    "\n",
    "    budget_regression = lambda x: feature_dot(x, budget_sv, k) + budget_b\n",
    "\n",
    "    ax.plot(x_values, [budget_regression(x) + epsilon for x in x_values],\n",
    "            'r:', linewidth=.5)\n",
    "    ax.plot(x_values, [budget_regression(x) for x in x_values], 'r')\n",
    "    ax.plot(x_values, [budget_regression(x) - epsilon for x in x_values],\n",
    "            'r:', linewidth=.5)\n",
    "    #return alpha, alpha_hat"
   ]
  },
  {
   "cell_type": "markdown",
   "metadata": {},
   "source": [
    "## Budget-based SV classification\n",
    "\n",
    "The original dual problem in SV classification is\n",
    "\n",
    "\\begin{equation*}\n",
    "\\max \\sum_i \\alpha_i - \\frac{1}{2} \\sum_{i,j} \\alpha_i \\alpha_j y_i y_j k(x_i, x_j)\n",
    "\\end{equation*}\n",
    "\n",
    "under the constraints\n",
    "\n",
    "\\begin{eqnarray*}\n",
    "\\sum_i \\alpha_i y_i = 0 \\\\\n",
    "0 \\leq \\alpha_i \\leq C\n",
    "\\end{eqnarray*}\n",
    "\n",
    "Once this problem has been solved, the classification involves evaluating an expression depending on the non-null optimal values for the lagrangian variables $\\alpha_i$, in turn related to the related values $x_i$, termed support vectors. When this number grows, this can affect the space needed in order to store the induced classifier, as well as the time and energy consumption needed in order to query it.\n",
    "\n",
    "We propose therefore to fix a budget $B > 0$ related to the number of support vectors to be used. Consider the following modified form of the above mentioned dual problem.\n",
    "\n",
    "\\begin{equation*}\n",
    "\\max \\sum_i \\alpha_i - \\frac{1}{2} \\sum_{i,j} \\alpha_i \\alpha_j y_i y_j k(x_i, x_j) + P(\\gamma_1, \\dots, \\gamma_n)\n",
    "\\end{equation*}\n",
    "\n",
    "under the constraints\n",
    "\n",
    "\\begin{eqnarray*}\n",
    "\\sum_i \\alpha_i y_i = 0 \\\\\n",
    "0 \\leq \\alpha_i \\leq C \\gamma_i \\\\\n",
    "0 \\leq \\gamma_i \\leq 1 \\\\\n",
    "\\sum_i \\gamma_i \\leq B\n",
    "\\end{eqnarray*}\n",
    "\n",
    "where $P(\\gamma_1, \\dots, \\gamma_n)$ is a term promoting the optimization process towards values for the additional variables $\\gamma_i$ either equal to $0$ or to $1$, for instance $P(\\gamma_1, \\dots, \\gamma_n) = \\prod_i -\\gamma_i (1 - \\gamma_i)$ or $P(\\gamma_1, \\dots, \\gamma_n) = \\prod_i \\left( \\gamma_i^{\\gamma_i} (1 - \\gamma_i)^{1 - \\gamma_i} - 1 \\right)$."
   ]
  },
  {
   "cell_type": "code",
   "execution_count": 1,
   "metadata": {},
   "outputs": [],
   "source": [
    "def p_1(x):\n",
    "    return -x * (1 - x)\n",
    "\n",
    "def p_2(x):\n",
    "    return x**x * (1-x)**(1-x) - 1"
   ]
  },
  {
   "cell_type": "code",
   "execution_count": 2,
   "metadata": {},
   "outputs": [
    {
     "data": {
      "image/png": "[encoded data removed]",
      "text/plain": [
       "<Figure size 432x288 with 2 Axes>"
      ]
     },
     "metadata": {
      "needs_background": "light"
     },
     "output_type": "display_data"
    }
   ],
   "source": [
    "import matplotlib.pyplot as plt\n",
    "import numpy as np\n",
    "\n",
    "x = np.linspace(0, 1, 100)\n",
    "plt.subplot(121)\n",
    "y = p_1(x)\n",
    "plt.plot(x, y)\n",
    "plt.ylim(-0.5, 0)\n",
    "\n",
    "plt.subplot(122)\n",
    "y = p_2(x)\n",
    "plt.plot(x, y)\n",
    "plt.ylim(-0.5, 0)\n",
    "\n",
    "plt.show()"
   ]
  },
  {
   "cell_type": "markdown",
   "metadata": {},
   "source": [
    "The optimal value of the new variables $\\gamma_i$ is likely to be either $0$ or $1$: in the first case, the constraint $0 \\leq \\alpha_i \\leq C \\gamma_i$ reads $\\alpha_i = 0$, and thus the related $x_i$ will not be a support vector, while in the second one $\\alpha_i$ is free to assume values in the usual interval $[0, C]$, which means it might or not be a support vector. This means that $\\sum_i \\gamma_i$ is approximately equal to the number of times $\\gamma_i \\neq 0$, and thus it is an upper bound to the number of support vectors. Summing up, the added constraint $\\sum_i \\gamma_i \\leq B$ implies that the total number of support vectors will not exceed $B$.\n",
    "\n",
    "We plan to experimentally analyse this budgeted version of SVM classification in the following three scenarios.\n",
    "\n",
    "1. When the classification complexity of a dataset grows, it is expected that a higher number of support vectors is needed in order to build the corresponding SV classifier, with the above-mentioned issues related to space, time, and energy consumption. In such a case, we plan to study how the less demanding classifier obtained using the budgeted version introduces a degradation in classification performance. Precisely, by considering various datasets of increasing classification complexity, and, for each dataset, different values of the budget B, we will experimentally compute the degradation of the budgeted classifier w.r.t. the classical one.\n",
    "\n",
    "2. When the dataset to be used for solving a classification problem has a huge size, solving the optimization problem at the basis of SV classification might be impossible, because the used solver is not able to handle as much as independent variables as needed. In such cases, the dataset can be divided into chunks of size sufficiently low to be processed by the used solver, in conjunction with a budget allowing to get a classifier using at most a predefined fraction of the training set as a support vector. These support vectors can be merged with the following chunks, repeating the process until the whole dataset has been processed. This approach, although suboptimal, can be therefore used to scale up SV classification to a big-data setting.\n",
    "\n",
    "3. TO BE CHECKED: if the number of outliers can be shown to affect the number of support vectors, the budgeted version can be used in order to address the outliers problem."
   ]
  },
  {
   "cell_type": "markdown",
   "metadata": {},
   "source": [
    "## Scenario 1"
   ]
  },
  {
   "cell_type": "code",
   "execution_count": 1,
   "metadata": {},
   "outputs": [],
   "source": [
    "import matplotlib.pyplot as plt\n",
    "import numpy as np\n",
    "\n",
    "from optimization import GurobiSolver\n",
    "from kernel import LinearKernel, PolynomialKernel, GaussianKernel\n",
    "\n",
    "def generate_data(n=10, split=0.5):\n",
    "    y = np.random.uniform(size=n)\n",
    "    n_pos = int(n * split)\n",
    "    y_pos = y[:n_pos]\n",
    "    y_neg = y[n_pos:]\n",
    "    return np.array([[0.2, y] for y in y_pos] + [[0.8, y] for y in y_neg]), [1] * n_pos + [-1] * (n - n_pos)\n",
    "    "
   ]
  },
  {
   "cell_type": "code",
   "execution_count": 2,
   "metadata": {},
   "outputs": [],
   "source": [
    "X, y = generate_data()"
   ]
  },
  {
   "cell_type": "code",
   "execution_count": 3,
   "metadata": {},
   "outputs": [
    {
     "data": {
      "image/png": "[encoded data removed]",
      "text/plain": [
       "<Figure size 432x288 with 1 Axes>"
      ]
     },
     "metadata": {
      "needs_background": "light"
     },
     "output_type": "display_data"
    }
   ],
   "source": [
    "def gr_dataset(X, y, df=None):\n",
    "    \n",
    "    color = np.vectorize(lambda l: 'green' if l==1 else 'blue')\n",
    "\n",
    "    plt.scatter(*X.T, c=color(y))\n",
    "    x = np.linspace(0, 1, 200)\n",
    "    if df is not None:\n",
    "        plt.plot(x, df(x))\n",
    "    plt.ylim(0, 1)\n",
    "    plt.show()\n",
    "    \n",
    "    \n",
    "gr_dataset(X, y)"
   ]
  },
  {
   "cell_type": "code",
   "execution_count": 4,
   "metadata": {},
   "outputs": [],
   "source": [
    "s = GurobiSolver(problem='classification')\n",
    "C = 10\n",
    "k = LinearKernel()"
   ]
  },
  {
   "cell_type": "code",
   "execution_count": 5,
   "metadata": {},
   "outputs": [
    {
     "name": "stdout",
     "output_type": "stream",
     "text": [
      "[1.0722322  1.27925177 1.27665685 1.15412536 0.77328938 1.15370546\n",
      " 0.95638505 0.94992802 1.18938918 1.30614785] clipped\n"
     ]
    }
   ],
   "source": [
    "sol_classic = s.solve(X, y, budget=None, C=C, kernel=k)"
   ]
  },
  {
   "cell_type": "code",
   "execution_count": 6,
   "metadata": {},
   "outputs": [
    {
     "data": {
      "text/plain": [
       "10"
      ]
     },
     "execution_count": 6,
     "metadata": {},
     "output_type": "execute_result"
    }
   ],
   "source": [
    "sum(sol_classic > 0)"
   ]
  },
  {
   "cell_type": "code",
   "execution_count": 7,
   "metadata": {},
   "outputs": [],
   "source": [
    "def get_sv_classifier(X, y, sol, C, k):\n",
    "    X = np.array(X)\n",
    "    y = np.array(y)\n",
    "    sv_mask = (0 < sol) & (sol < C)\n",
    "    \n",
    "\n",
    "    alpha = sol\n",
    "    \n",
    "    def dotprod(x_new):\n",
    "        return np.sum([a * y_i * k.compute(x, x_new) for x, y_i, a in zip(X, y, alpha)])\n",
    "    \n",
    "    bs = [y_i - dotprod(x) for x, y_i, a in zip(X, y, alpha) if a > 0 and a < C]\n",
    "    b = np.mean(bs)\n",
    "    if np.std(bs) > 1E-6:\n",
    "        print('warning: computed values for b are', bs)\n",
    "    \n",
    "    def classifier(x1, x2):\n",
    "        return dotprod((x1, x2)) + b\n",
    "    \n",
    "    return classifier"
   ]
  },
  {
   "cell_type": "code",
   "execution_count": 8,
   "metadata": {},
   "outputs": [],
   "source": [
    "sv_classifier = get_sv_classifier(X, y, sol_classic, C, k)"
   ]
  },
  {
   "cell_type": "code",
   "execution_count": 12,
   "metadata": {},
   "outputs": [
    {
     "data": {
      "image/png": "[encoded data removed]",
      "text/plain": [
       "<Figure size 432x288 with 1 Axes>"
      ]
     },
     "metadata": {
      "needs_background": "light"
     },
     "output_type": "display_data"
    }
   ],
   "source": [
    "def gr_classifier(classifier, X, y):\n",
    "    x_range = np.linspace(0, 1, 30)\n",
    "    y_range = np.linspace(0, 1, 30)\n",
    "    x_grid, y_grid = np.meshgrid(x_range, y_range)\n",
    "    z = np.array([classifier(*a) for a in np.array((np.ravel(x_grid), np.ravel(y_grid))).T])\n",
    "    z_grid = z.reshape(x_grid.shape)\n",
    "\n",
    "    plt.contour(x_grid, y_grid, z_grid, [0], colors='k')\n",
    "    plt.contour(x_grid, y_grid, z_grid, [-1, 1], colors='k', linestyles='dashed')\n",
    "\n",
    "    gr_dataset(X, y)\n",
    "\n",
    "    plt.show()\n",
    "\n",
    "gr_classifier(sv_classifier, X, y)"
   ]
  },
  {
   "cell_type": "code",
   "execution_count": 13,
   "metadata": {},
   "outputs": [
    {
     "name": "stdout",
     "output_type": "stream",
     "text": [
      "[0. 1. 0. 1. 0. 0. 0. 1. 0. 0.]\n",
      "[0.         0.46720019 0.         5.085501   0.         0.\n",
      " 0.         5.55270119 0.         0.        ] clipped\n"
     ]
    },
    {
     "data": {
      "text/plain": [
       "3"
      ]
     },
     "execution_count": 13,
     "metadata": {},
     "output_type": "execute_result"
    }
   ],
   "source": [
    "sol_budget = s.solve(X, y, budget=3, C=C, kernel=k)\n",
    "sum(sol_budget > 0)"
   ]
  },
  {
   "cell_type": "code",
   "execution_count": 14,
   "metadata": {},
   "outputs": [
    {
     "name": "stdout",
     "output_type": "stream",
     "text": [
      "warning: computed values for b are [1.6663249056046694, 1.6663243734674187, 1.6652968450608308]\n"
     ]
    }
   ],
   "source": [
    "sv_classifier_budget = get_sv_classifier(X, y, sol_budget, C, k)"
   ]
  },
  {
   "cell_type": "code",
   "execution_count": 15,
   "metadata": {},
   "outputs": [
    {
     "data": {
      "image/png": "[encoded data removed]",
      "text/plain": [
       "<Figure size 432x288 with 1 Axes>"
      ]
     },
     "metadata": {
      "needs_background": "light"
     },
     "output_type": "display_data"
    }
   ],
   "source": [
    "gr_classifier(sv_classifier_budget, X, y)"
   ]
  },
  {
   "cell_type": "markdown",
   "metadata": {},
   "source": [
    "## Roba vecchia o da tenere da parte"
   ]
  },
  {
   "cell_type": "code",
   "execution_count": null,
   "metadata": {},
   "outputs": [],
   "source": [
    "def generate_data(complexity='linear', params={'m': 1, 'q': 0}, n=50, left=0, right=1):\n",
    "\n",
    "    X = np.random.uniform(size=(n, 2), low=left, high=right)\n",
    "    y = a * X + b + np.random.random(n) / 2\n",
    "\n",
    "    return X, y"
   ]
  },
  {
   "cell_type": "code",
   "execution_count": 3,
   "metadata": {},
   "outputs": [],
   "source": [
    "def decision_function(beta):\n",
    "    #return lambda x: 1 / (1 + np.exp(-beta*(x-0.5) ) ) + np.sin(x*2*10*np.pi)/5\n",
    "    return lambda x: x\n",
    "\n",
    "df = decision_function(4)\n",
    "labeling_function = lambda x0, x1: np.sign(df(x0) - x1)\n",
    "\n",
    "\n",
    "y = labeling_function(*X.T)\n",
    "\n",
    "y = np.array([1, 1, 1, -1, -1])\n",
    "\n"
   ]
  }
 ],
 "metadata": {
  "kernelspec": {
   "display_name": "Python 3 (ipykernel)",
   "language": "python",
   "name": "python3"
  },
  "language_info": {
   "codemirror_mode": {
    "name": "ipython",
    "version": 3
   },
   "file_extension": ".py",
   "mimetype": "text/x-python",
   "name": "python",
   "nbconvert_exporter": "python",
   "pygments_lexer": "ipython3",
   "version": "3.9.12"
  },
  "vscode": {
   "interpreter": {
    "hash": "fb81e07f4ab13bb5586d712aa9061ede1871df36198bf4da25461a9a3be410f2"
   }
  }
 },
 "nbformat": 4,
 "nbformat_minor": 2
}
