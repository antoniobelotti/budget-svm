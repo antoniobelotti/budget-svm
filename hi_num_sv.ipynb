{
 "cells": [
  {
   "cell_type": "code",
   "execution_count": 2,
   "id": "41c76c29-cafe-49b0-9f5b-9416ebc80185",
   "metadata": {},
   "outputs": [],
   "source": [
    "from pathlib import Path\n",
    "BASE_PATH = Path(\"/home/anto/Downloads/3dim_res\")\n",
    "EXP_TIMESTAMP = \"1683636212.3794007\"\n",
    "\n",
    "model_uuid = \"4029cfb3-e2b7-40e9-bdcc-9a8fa3151e98\"\n",
    "dataset_id = \"358b2eae819d51fd894ac568be097d90\" # 0dca4f0d524c6f06134b63c6396e360e   358b2eae819d51fd894ac568be097d90"
   ]
  },
  {
   "cell_type": "code",
   "execution_count": 3,
   "id": "d7785545-42db-4ac2-a17f-a3eed3168eff",
   "metadata": {},
   "outputs": [],
   "source": [
    "import pickle\n",
    "from experiments.synthetic_datasets.common import load_dataset\n",
    "\n",
    "\n",
    "with open(BASE_PATH / \"results\" / \"models\" / f\"{model_uuid}.pkl\", \"rb\") as fp:\n",
    "    model = pickle.load(fp)\n",
    "    \n",
    "\n",
    "ds = load_dataset(BASE_PATH / f\"synthetic_datasets/datasets/{dataset_id}.json\")"
   ]
  },
  {
   "cell_type": "code",
   "execution_count": 4,
   "id": "8b2c2bb7-3f5a-46a4-8203-ee6356792ee4",
   "metadata": {},
   "outputs": [],
   "source": [
    "import numpy as np\n",
    "from sklearn.model_selection import train_test_split\n",
    "from sklearn.preprocessing import StandardScaler\n",
    "\n",
    "#indices = np.random.randint(len(ds.X), size=1000)\n",
    "#X,y = ds.X[indices], ds.y[indices]\n",
    "\n",
    "scaler = StandardScaler()\n",
    "X = scaler.fit_transform(ds.X)\n",
    "\n",
    "X_train, X_test, y_train, y_test = train_test_split(X, ds.y, test_size=.3)"
   ]
  },
  {
   "cell_type": "code",
   "execution_count": 5,
   "id": "ee651fe4-fb32-46aa-abac-0481c3c07b8a",
   "metadata": {},
   "outputs": [],
   "source": [
    "from budgetsvm.kernel import Kernel\n",
    "\n",
    "class RBFKernel(Kernel):\n",
    "    def __init__(self, gamma):\n",
    "        super().__init__()\n",
    "        if gamma > 0:\n",
    "            self.gamma = gamma\n",
    "        else:\n",
    "            raise ValueError()\n",
    "\n",
    "    def compute(self, arg_1, arg_2):\n",
    "        # == sklearn rbf kernel\n",
    "        diff = np.linalg.norm(np.array(arg_1) - np.array(arg_2)) ** 2\n",
    "        return float(np.exp(-gamma * diff))\n",
    "\n",
    "    def __repr__(self):\n",
    "        \"\"\"Return the python representation of the kernel.\"\"\"\n",
    "        obj_repr = \"RBF(\"\n",
    "        if self.sigma != self.default_sigma:\n",
    "            obj_repr += f\"sigma={self.sigma}\"\n",
    "        obj_repr += \")\"\n",
    "        return obj_repr\n",
    "\n",
    "    def __eq__(self, other):\n",
    "        return isinstance(other, RBFKernel) and self.sigma == other.sigma\n"
   ]
  },
  {
   "cell_type": "code",
   "execution_count": null,
   "id": "812ed1ac-3cd4-4d33-b50e-bdad2d6d7ca4",
   "metadata": {},
   "outputs": [
    {
     "name": "stdout",
     "output_type": "stream",
     "text": [
      "acc 0.9941666666666666\n",
      "num_sv 596\n",
      "training took 0.20316475900017394\n",
      "model construction took 404.3269998780006\n"
     ]
    }
   ],
   "source": [
    "from sklearn.svm import SVC as sklearnSVC\n",
    "from budgetsvm.svm import SVC as gurobiSVC\n",
    "from budgetsvm.kernel import GaussianKernel, PrecomputedKernel\n",
    "from experiments.utils import Timer\n",
    "import numpy as np\n",
    "\n",
    "\n",
    "gamma = 1 / (len(X_train[0]) * np.var(X_train))\n",
    "\n",
    "with Timer() as t:\n",
    "    sklearn_model = sklearnSVC(C=1.0, kernel=\"rbf\", gamma=gamma)\n",
    "    sklearn_model.fit(X_train, y_train)\n",
    "\n",
    "print(f\"acc {sklearn_model.score(X_test, y_test)}\\nnum_sv {sum(sklearn_model.n_support_)}\")\n",
    "print(f\"training took {t.time}\")\n",
    "\n",
    "\n",
    "with Timer() as t:\n",
    "    kernel = PrecomputedKernel(original_kernel=RBFKernel(gamma))\n",
    "    precomputed_X_train = np.array([[kernel.compute(x, y) for y in X_train] for x in X_train])\n",
    "    precomputed_X_test = np.array([[kernel.compute(x, y) for y in X_train] for x in X_test])\n",
    "    \n",
    "    gurobi_model = gurobiSVC(C=1.0, kernel=kernel)\n",
    "    gurobi_model.fit(precomputed_X_train, y_train)\n",
    "\n",
    "print(f\"\\nacc {gurobi_model.score(precomputed_X_test, y_test)}\\nnum_sv {len(gurobi_model.alpha_)}\")\n",
    "print(f\"training took {t.time}\")"
   ]
  },
  {
   "cell_type": "code",
   "execution_count": null,
   "id": "06df372d-df6a-4a34-95d5-410d593821af",
   "metadata": {},
   "outputs": [],
   "source": []
  }
 ],
 "metadata": {
  "kernelspec": {
   "display_name": "tesi-svm-env",
   "language": "python",
   "name": "tesi-svm-env"
  },
  "language_info": {
   "codemirror_mode": {
    "name": "ipython",
    "version": 3
   },
   "file_extension": ".py",
   "mimetype": "text/x-python",
   "name": "python",
   "nbconvert_exporter": "python",
   "pygments_lexer": "ipython3",
   "version": "3.10.9"
  }
 },
 "nbformat": 4,
 "nbformat_minor": 5
}
